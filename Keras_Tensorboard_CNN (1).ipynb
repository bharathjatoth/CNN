{
 "cells": [
  {
   "cell_type": "markdown",
   "metadata": {},
   "source": [
    "In this Tutorial we are going to load the summaries of keras with Tensorboard for better visualization. We are goin to train a CNN architecture/model with cifar dataset which is already preloaded in Keras"
   ]
  },
  {
   "cell_type": "code",
   "execution_count": 4,
   "metadata": {},
   "outputs": [],
   "source": [
    "import tensorflow as tf\n",
    "from time import time\n",
    "import matplotlib.pyplot as plt\n",
    "from tensorflow.python.keras.callbacks import TensorBoard\n",
    "from tensorflow.python.keras import datasets\n",
    "keras = tf.keras"
   ]
  },
  {
   "cell_type": "markdown",
   "metadata": {},
   "source": [
    "Collecting all necessary tools to construct a CNN layer with the help of Keras in Tensorflow"
   ]
  },
  {
   "cell_type": "code",
   "execution_count": 5,
   "metadata": {},
   "outputs": [],
   "source": [
    "sequential = keras.Sequential\n",
    "dense = keras.layers.Dense\n",
    "dropout = keras.layers.Dropout\n",
    "cnn = keras.layers.Conv2D\n",
    "max_pool = keras.layers.MaxPool2D\n",
    "flat = keras.layers.Flatten\n",
    "batch_size = 10\n",
    "epochs = 10\n",
    "nclasses = 10\n",
    "model_name = 'keras_model.h5'"
   ]
  },
  {
   "cell_type": "markdown",
   "metadata": {},
   "source": [
    "As the dataset is very large and due to lack of computation power (from next time we will see better results as we are going to train on a GPU) we are now only taking first 1000 examples in training set and 100 in test set\n",
    "\n",
    "We are preprocessing it with dividing with 255 as the input pixels maximum size is 255 and to get the values in the range of 0 to 1 we are fividing with 255 (max value of pixel)"
   ]
  },
  {
   "cell_type": "code",
   "execution_count": 6,
   "metadata": {},
   "outputs": [
    {
     "name": "stdout",
     "output_type": "stream",
     "text": [
      "(50000, 32, 32, 3) (50000, 1)\n"
     ]
    }
   ],
   "source": [
    "(x_train,y_train),(x_test,y_test) = datasets.cifar10.load_data()\n",
    "print(x_train.shape,y_train.shape)\n",
    "x_train,y_train = x_train[:1000],y_train[:1000]\n",
    "x_test,y_test = x_test[:100],y_test[:100]\n",
    "x_train = x_train/255\n",
    "x_test = x_test/255\n",
    "#converting to categorical outputs\n",
    "y_train = keras.utils.to_categorical(y_train,num_classes=nclasses)\n",
    "y_test = keras.utils.to_categorical(y_test,num_classes=nclasses)\n"
   ]
  },
  {
   "cell_type": "markdown",
   "metadata": {},
   "source": [
    "Creating a CNN layer of Three layer followed by a Flattening and softmax to predict the outcomes of the each image given out of the 10 categories available to us. One layer is Conv2d+conv2d+maxpool+dropout"
   ]
  },
  {
   "cell_type": "code",
   "execution_count": 7,
   "metadata": {},
   "outputs": [],
   "source": [
    "#creating the model of cnn\n",
    "model = sequential()\n",
    "model.add(cnn(32,(3,3),padding='same',activation='relu',input_shape=x_train.shape[1:]))\n",
    "model.add(cnn(32,(3,3),activation='relu'))\n",
    "model.add(max_pool(pool_size=(2,2)))\n",
    "model.add(dropout(0.2))\n",
    "\n",
    "model.add(cnn(64,(3,3),padding='same',activation='relu'))\n",
    "model.add(cnn(64,(3,3),activation='relu'))\n",
    "model.add(max_pool(pool_size=(2,2)))\n",
    "model.add(dropout(0.4))\n",
    "\n",
    "model.add(cnn(64,(3,3),padding='same',activation='relu'))\n",
    "model.add(cnn(64,(3,3),activation='relu'))\n",
    "model.add(max_pool(pool_size=(2,2)))\n",
    "model.add(dropout(0.5))\n",
    "\n",
    "model.add(flat())\n",
    "model.add(dense(512,activation='relu'))\n",
    "model.add(dropout(0.5))\n",
    "model.add(dense(nclasses,activation='softmax'))\n"
   ]
  },
  {
   "cell_type": "markdown",
   "metadata": {},
   "source": [
    "Compiling the model to build the layers we can see the model summary here"
   ]
  },
  {
   "cell_type": "code",
   "execution_count": 8,
   "metadata": {},
   "outputs": [
    {
     "name": "stdout",
     "output_type": "stream",
     "text": [
      "_________________________________________________________________\n",
      "Layer (type)                 Output Shape              Param #   \n",
      "=================================================================\n",
      "conv2d_1 (Conv2D)            (None, 32, 32, 32)        896       \n",
      "_________________________________________________________________\n",
      "conv2d_2 (Conv2D)            (None, 30, 30, 32)        9248      \n",
      "_________________________________________________________________\n",
      "max_pooling2d_1 (MaxPooling2 (None, 15, 15, 32)        0         \n",
      "_________________________________________________________________\n",
      "dropout_1 (Dropout)          (None, 15, 15, 32)        0         \n",
      "_________________________________________________________________\n",
      "conv2d_3 (Conv2D)            (None, 15, 15, 64)        18496     \n",
      "_________________________________________________________________\n",
      "conv2d_4 (Conv2D)            (None, 13, 13, 64)        36928     \n",
      "_________________________________________________________________\n",
      "max_pooling2d_2 (MaxPooling2 (None, 6, 6, 64)          0         \n",
      "_________________________________________________________________\n",
      "dropout_2 (Dropout)          (None, 6, 6, 64)          0         \n",
      "_________________________________________________________________\n",
      "conv2d_5 (Conv2D)            (None, 6, 6, 64)          36928     \n",
      "_________________________________________________________________\n",
      "conv2d_6 (Conv2D)            (None, 4, 4, 64)          36928     \n",
      "_________________________________________________________________\n",
      "max_pooling2d_3 (MaxPooling2 (None, 2, 2, 64)          0         \n",
      "_________________________________________________________________\n",
      "dropout_3 (Dropout)          (None, 2, 2, 64)          0         \n",
      "_________________________________________________________________\n",
      "flatten_1 (Flatten)          (None, 256)               0         \n",
      "_________________________________________________________________\n",
      "dense_1 (Dense)              (None, 512)               131584    \n",
      "_________________________________________________________________\n",
      "dropout_4 (Dropout)          (None, 512)               0         \n",
      "_________________________________________________________________\n",
      "dense_2 (Dense)              (None, 10)                5130      \n",
      "=================================================================\n",
      "Total params: 276,138\n",
      "Trainable params: 276,138\n",
      "Non-trainable params: 0\n",
      "_________________________________________________________________\n"
     ]
    }
   ],
   "source": [
    "#Here loss is the difference between the y-y(i) (predicted to actual values)\n",
    "#optimizer is the one which is way it need to be optimize the loss ex: Gradientdescentoptimizer,rms,adam\n",
    "model.compile(optimizer='rmsprop',loss='categorical_crossentropy',metrics=['accuracy'])\n",
    "model.summary()"
   ]
  },
  {
   "cell_type": "markdown",
   "metadata": {},
   "source": [
    "Getting the Tensoboard ready for saving the summaries and creating the directory with name logs in the parent folder "
   ]
  },
  {
   "cell_type": "code",
   "execution_count": 9,
   "metadata": {},
   "outputs": [],
   "source": [
    "tensorboard = TensorBoard(log_dir=\"logs/\",histogram_freq=0,write_graph=True,write_images=True)"
   ]
  },
  {
   "cell_type": "markdown",
   "metadata": {},
   "source": [
    "To run the tensorboard we need to run\n",
    "\n",
    "tensorboard --logdir==training:path_to_directory --host=127.0.0.1\n",
    "\n",
    "for example:\n",
    "tensorboard --logdir==training:C:\\Users\\jatoth.kumar\\PycharmProjects\\robot_project_hyd\\logs --host=127.0.0.1"
   ]
  },
  {
   "cell_type": "markdown",
   "metadata": {},
   "source": [
    "We are going to train the model with train_x and train_y and going to validate on test_x and text_y datasets. Here we need to do the callbacks to tensorboard for visualisation"
   ]
  },
  {
   "cell_type": "code",
   "execution_count": 10,
   "metadata": {},
   "outputs": [
    {
     "name": "stdout",
     "output_type": "stream",
     "text": [
      "Train on 1000 samples, validate on 100 samples\n",
      "Epoch 1/10\n",
      "1000/1000 [==============================] - 8s 8ms/step - loss: 2.3091 - acc: 0.0930 - val_loss: 2.2974 - val_acc: 0.2000\n",
      "Epoch 2/10\n",
      "1000/1000 [==============================] - 7s 7ms/step - loss: 2.2664 - acc: 0.1260 - val_loss: 2.1847 - val_acc: 0.2400\n",
      "Epoch 3/10\n",
      "1000/1000 [==============================] - 7s 7ms/step - loss: 2.1645 - acc: 0.1830 - val_loss: 2.0448 - val_acc: 0.2100\n",
      "Epoch 4/10\n",
      "1000/1000 [==============================] - 7s 7ms/step - loss: 2.0751 - acc: 0.2140 - val_loss: 1.9817 - val_acc: 0.3000\n",
      "Epoch 5/10\n",
      "1000/1000 [==============================] - 7s 7ms/step - loss: 2.0207 - acc: 0.2530 - val_loss: 2.0023 - val_acc: 0.2600\n",
      "Epoch 6/10\n",
      "1000/1000 [==============================] - 7s 7ms/step - loss: 1.9689 - acc: 0.2540 - val_loss: 1.8677 - val_acc: 0.3300\n",
      "Epoch 7/10\n",
      "1000/1000 [==============================] - 7s 7ms/step - loss: 1.9026 - acc: 0.2830 - val_loss: 1.8145 - val_acc: 0.3800\n",
      "Epoch 8/10\n",
      "1000/1000 [==============================] - 7s 7ms/step - loss: 1.8748 - acc: 0.2820 - val_loss: 1.9620 - val_acc: 0.1900\n",
      "Epoch 9/10\n",
      "1000/1000 [==============================] - 7s 7ms/step - loss: 1.8598 - acc: 0.3090 - val_loss: 1.8684 - val_acc: 0.2200\n",
      "Epoch 10/10\n",
      "1000/1000 [==============================] - 7s 7ms/step - loss: 1.7968 - acc: 0.3200 - val_loss: 1.8404 - val_acc: 0.3500\n"
     ]
    }
   ],
   "source": [
    "his = model.fit(x_train,y_train,batch_size=batch_size,epochs=epochs,validation_data=(x_test,y_test),shuffle=True,callbacks=[tensorboard])\n",
    "model.save(model_name)"
   ]
  },
  {
   "cell_type": "markdown",
   "metadata": {},
   "source": [
    "With much less data we have achieved the accuracy to be 0.35 which is a great acheivement. Now we are going to calculate the scores on x_test and y_test"
   ]
  },
  {
   "cell_type": "code",
   "execution_count": 11,
   "metadata": {},
   "outputs": [
    {
     "name": "stdout",
     "output_type": "stream",
     "text": [
      "100/100 [==============================] - 0s 2ms/step\n",
      "1.840434603691101 0.35\n"
     ]
    },
    {
     "data": {
      "image/png": "[encoded data removed]",
      "text/plain": [
       "<matplotlib.figure.Figure at 0xd6cfb70>"
      ]
     },
     "metadata": {},
     "output_type": "display_data"
    }
   ],
   "source": [
    "scores = model.evaluate(x_test,y_test,verbose=1)\n",
    "print(scores[0],scores[1])\n",
    "plt.plot(his.history['acc'])\n",
    "plt.xlabel('epochs')\n",
    "plt.ylabel('accuracy')\n",
    "plt.show()"
   ]
  },
  {
   "cell_type": "markdown",
   "metadata": {},
   "source": [
    "The graph which we plot with the matplotlib and the Tensorboard should be the same. After running the above command in the Terminal (Tensorboard command) just open any browser and go to 127.0.0.1:6006. This will show all the log visualizations which will give a better understanding about the model you have built"
   ]
  },
  {
   "cell_type": "code",
   "execution_count": null,
   "metadata": {},
   "outputs": [],
   "source": []
  }
 ],
 "metadata": {
  "kernelspec": {
   "display_name": "Python 3",
   "language": "python",
   "name": "python3"
  },
  "language_info": {
   "codemirror_mode": {
    "name": "ipython",
    "version": 3
   },
   "file_extension": ".py",
   "mimetype": "text/x-python",
   "name": "python",
   "nbconvert_exporter": "python",
   "pygments_lexer": "ipython3",
   "version": "3.6.4"
  }
 },
 "nbformat": 4,
 "nbformat_minor": 2
}
